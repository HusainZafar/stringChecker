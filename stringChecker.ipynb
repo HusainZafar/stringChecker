{
 "cells": [
  {
   "cell_type": "code",
   "execution_count": 1,
   "metadata": {
    "collapsed": true
   },
   "outputs": [],
   "source": [
    "import glob\n",
    "import time\n",
    "dataFolder = 'programming_challenge/'"
   ]
  },
  {
   "cell_type": "code",
   "execution_count": 2,
   "metadata": {
    "collapsed": true
   },
   "outputs": [],
   "source": [
    "class StringChecker:\n",
    "    def __init__(self):\n",
    "        self.fileMap = {}\n",
    "        for name in glob.glob(dataFolder + 'P*.txt'):\n",
    "            with open(name, encoding=\"utf-8\") as pFile:\n",
    "                self.fileMap[name] = set(map(str.strip, pFile))\n",
    "    \n",
    "    def find_property(self,strings):\n",
    "        result = []\n",
    "        for pFileName, pFileStrings in self.fileMap.items():\n",
    "            result.append((pFileName, len(set.intersection(strings, pFileStrings))))\n",
    "        return sorted(result, reverse=True, key = lambda x: x[1])"
   ]
  },
  {
   "cell_type": "code",
   "execution_count": 3,
   "metadata": {},
   "outputs": [
    {
     "name": "stdout",
     "output_type": "stream",
     "text": [
      "9.974875450134277\n"
     ]
    }
   ],
   "source": [
    "# Initialize the StringChecker class to load all the P* files\n",
    "\n",
    "startReadTime = time.time()\n",
    "\n",
    "# sc is the class object\n",
    "sc = StringChecker()\n",
    "endReadTime = time.time()\n",
    "print(endReadTime - startReadTime)"
   ]
  },
  {
   "cell_type": "code",
   "execution_count": 4,
   "metadata": {
    "collapsed": true
   },
   "outputs": [],
   "source": [
    "# Load all s* files\n",
    "\n",
    "sampleFileData = []\n",
    "for name in glob.glob(dataFolder + 's*.txt'):\n",
    "    with open(name) as sampleFileName:\n",
    "        sampleFileData.append(set(map(str.strip,open(name, encoding=\"utf-8\"))))"
   ]
  },
  {
   "cell_type": "code",
   "execution_count": 5,
   "metadata": {},
   "outputs": [
    {
     "name": "stdout",
     "output_type": "stream",
     "text": [
      "1.7346124649047852\n"
     ]
    }
   ],
   "source": [
    "# Call find_property() on each sample file\n",
    "startProcessTime = time.time()\n",
    "result = [sc.find_property(sampleFile) for sampleFile in sampleFileData]\n",
    "print(time.time() - startProcessTime)\n",
    "\n",
    "# result is a list of lists where each list is the output for a particular sample file"
   ]
  }
 ],
 "metadata": {
  "kernelspec": {
   "display_name": "Python 3",
   "language": "python",
   "name": "python3"
  },
  "language_info": {
   "codemirror_mode": {
    "name": "ipython",
    "version": 3
   },
   "file_extension": ".py",
   "mimetype": "text/x-python",
   "name": "python",
   "nbconvert_exporter": "python",
   "pygments_lexer": "ipython3",
   "version": "3.6.2"
  }
 },
 "nbformat": 4,
 "nbformat_minor": 2
}
